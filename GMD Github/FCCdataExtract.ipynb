{
 "cells": [
  {
   "cell_type": "code",
   "execution_count": null,
   "metadata": {},
   "outputs": [
    {
     "ename": "",
     "evalue": "",
     "output_type": "error",
     "traceback": [
      "\u001b[1;31mFailed to start the Kernel. \n",
      "\u001b[1;31mAttributeError: module 'profile' has no attribute 'run'. \n",
      "\u001b[1;31mView Jupyter <a href='command:jupyter.viewOutput'>log</a> for further details."
     ]
    }
   ],
   "source": [
    "import pandas as pd"
   ]
  },
  {
   "cell_type": "code",
   "execution_count": 14,
   "metadata": {},
   "outputs": [],
   "source": [
    "df1=pd.read_hdf(r\"C:\\Users\\harsh\\OneDrive\\.wdc\\Desktop\\Space Research\\GMD\\Data\\fcc_database_v1.hdf5\")\n",
    "df=df1.drop(columns=['SDEX', 'SDEY', 'SDEP', 'HRZ', 'DZMAX', 'SDX', 'SDY','SDZ','DateTime'])"
   ]
  },
  {
   "cell_type": "code",
   "execution_count": 15,
   "metadata": {},
   "outputs": [],
   "source": [
    "cor_col = ['HMAEX', 'HMAEY' , 'EMAX' , 'HRX' , 'HRY' , 'DXMAX' ,'DYMAX']  \n",
    "fet_col = [col for col in df.columns if col not in set1]"
   ]
  },
  {
   "cell_type": "code",
   "execution_count": 18,
   "metadata": {},
   "outputs": [
    {
     "ename": "AttributeError",
     "evalue": "module 'profile' has no attribute 'cor_matrix'",
     "output_type": "error",
     "traceback": [
      "\u001b[1;31m---------------------------------------------------------------------------\u001b[0m",
      "\u001b[1;31mAttributeError\u001b[0m                            Traceback (most recent call last)",
      "Cell \u001b[1;32mIn[18], line 1\u001b[0m\n\u001b[1;32m----> 1\u001b[0m cor_mat \u001b[38;5;241m=\u001b[39m pro\u001b[38;5;241m.\u001b[39mcor_matrix(f_dat\u001b[38;5;241m=\u001b[39mfet_col, \n\u001b[0;32m      2\u001b[0m                     y_dat\u001b[38;5;241m=\u001b[39mcor_col,\n\u001b[0;32m      3\u001b[0m                     cor_dat\u001b[38;5;241m=\u001b[39mdf, numeric_only\u001b[38;5;241m=\u001b[39m\u001b[38;5;28;01mTrue\u001b[39;00m)\n",
      "\u001b[1;31mAttributeError\u001b[0m: module 'profile' has no attribute 'cor_matrix'"
     ]
    }
   ],
   "source": [
    "cor_mat = pro.cor_matrix(f_dat=fet_col, \n",
    "                    y_dat=cor_col,\n",
    "                    cor_dat=df, numeric_only=True)"
   ]
  }
 ],
 "metadata": {
  "kernelspec": {
   "display_name": "base",
   "language": "python",
   "name": "python3"
  },
  "language_info": {
   "codemirror_mode": {
    "name": "ipython",
    "version": 3
   },
   "file_extension": ".py",
   "mimetype": "text/x-python",
   "name": "python",
   "nbconvert_exporter": "python",
   "pygments_lexer": "ipython3",
   "version": "3.12.4"
  }
 },
 "nbformat": 4,
 "nbformat_minor": 2
}
